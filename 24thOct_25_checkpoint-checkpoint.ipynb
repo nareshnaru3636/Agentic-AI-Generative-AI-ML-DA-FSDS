{
 "cells": [
  {
   "cell_type": "code",
   "execution_count": 1,
   "id": "21e9fbe0-49d0-488d-93cf-9abfecbc23c8",
   "metadata": {},
   "outputs": [],
   "source": [
    "t = (10,20,30)"
   ]
  },
  {
   "cell_type": "code",
   "execution_count": 2,
   "id": "172aae07-fdc7-46b1-a3c0-ba19dd53e102",
   "metadata": {},
   "outputs": [
    {
     "name": "stdout",
     "output_type": "stream",
     "text": [
      "(10, 20, 30)\n"
     ]
    }
   ],
   "source": [
    "print(t)"
   ]
  },
  {
   "cell_type": "code",
   "execution_count": 3,
   "id": "0c6d0ae1-cbec-4eca-bcb5-48dd71a899b6",
   "metadata": {},
   "outputs": [
    {
     "data": {
      "text/plain": [
       "1"
      ]
     },
     "execution_count": 3,
     "metadata": {},
     "output_type": "execute_result"
    }
   ],
   "source": [
    "t.count(10)"
   ]
  },
  {
   "cell_type": "code",
   "execution_count": 4,
   "id": "7f753e69-7b21-48aa-bf6c-1eaa6689f071",
   "metadata": {},
   "outputs": [
    {
     "data": {
      "text/plain": [
       "1"
      ]
     },
     "execution_count": 4,
     "metadata": {},
     "output_type": "execute_result"
    }
   ],
   "source": [
    "t.count(20)"
   ]
  },
  {
   "cell_type": "code",
   "execution_count": 5,
   "id": "4ddc3a70-4e9a-4b47-80c9-825c19c68ce5",
   "metadata": {},
   "outputs": [
    {
     "data": {
      "text/plain": [
       "2"
      ]
     },
     "execution_count": 5,
     "metadata": {},
     "output_type": "execute_result"
    }
   ],
   "source": [
    "t.index(30)"
   ]
  },
  {
   "cell_type": "code",
   "execution_count": 6,
   "id": "641dceb0-435c-49b5-8561-1eeacb80404b",
   "metadata": {},
   "outputs": [
    {
     "data": {
      "text/plain": [
       "(10, 20, 30, 10, 20, 30)"
      ]
     },
     "execution_count": 6,
     "metadata": {},
     "output_type": "execute_result"
    }
   ],
   "source": [
    "t2=t*2\n",
    "t2"
   ]
  },
  {
   "cell_type": "code",
   "execution_count": null,
   "id": "61c82822-3ba0-4a5b-90d6-3526980aa421",
   "metadata": {},
   "outputs": [],
   "source": []
  },
  {
   "cell_type": "code",
   "execution_count": 7,
   "id": "121aa3bd-3947-4c70-a47f-96659e648587",
   "metadata": {},
   "outputs": [
    {
     "ename": "SyntaxError",
     "evalue": "invalid syntax (3905306289.py, line 5)",
     "output_type": "error",
     "traceback": [
      "\u001b[1;36m  Cell \u001b[1;32mIn[7], line 5\u001b[1;36m\u001b[0m\n\u001b[1;33m    remove the element\u001b[0m\n\u001b[1;37m           ^\u001b[0m\n\u001b[1;31mSyntaxError\u001b[0m\u001b[1;31m:\u001b[0m invalid syntax\n"
     ]
    }
   ],
   "source": [
    "# list\n",
    "mutable\n",
    "duplicate is allowed\n",
    "append(),copy(),insert(),extend(),pop()\n",
    "remove the element\n",
    "list is growable\n",
    "multiple data type in list\n",
    "indexining & slicing is allowed\n",
    "#Tuple\n",
    "immutable\n",
    "duplicate is allowed\n",
    "remove is not allowed\n",
    "only two function will work .index and .count"
   ]
  },
  {
   "cell_type": "code",
   "execution_count": null,
   "id": "85e78e53-224a-4ac5-9703-3837d1aef583",
   "metadata": {},
   "outputs": [],
   "source": [
    "Set"
   ]
  },
  {
   "cell_type": "code",
   "execution_count": null,
   "id": "bf66a3da-e881-4bf8-8fbc-37ec25a62d21",
   "metadata": {},
   "outputs": [],
   "source": [
    "s = {}\n",
    "s"
   ]
  },
  {
   "cell_type": "code",
   "execution_count": null,
   "id": "6d0b07de-c6fd-4610-ab3d-8c938170b035",
   "metadata": {},
   "outputs": [],
   "source": [
    "type(s)"
   ]
  },
  {
   "cell_type": "code",
   "execution_count": null,
   "id": "4d57ba3b-7939-460c-ba3b-b142cc44945c",
   "metadata": {},
   "outputs": [],
   "source": [
    "s1= set ()\n",
    "s1"
   ]
  },
  {
   "cell_type": "code",
   "execution_count": null,
   "id": "75c9e176-d8ba-466f-9486-6cd1ec99ff22",
   "metadata": {},
   "outputs": [],
   "source": [
    "s2={90,493,923,5,424,53}\n",
    "s2"
   ]
  },
  {
   "cell_type": "code",
   "execution_count": null,
   "id": "2fc4e95c-23d2-49ac-83a5-34aef7e22187",
   "metadata": {},
   "outputs": [],
   "source": [
    "type(s2)"
   ]
  },
  {
   "cell_type": "code",
   "execution_count": null,
   "id": "5def871c-1f23-4a8d-ba0f-563def0e008b",
   "metadata": {},
   "outputs": [],
   "source": [
    "s2.add(44)\n",
    "s2"
   ]
  },
  {
   "cell_type": "code",
   "execution_count": null,
   "id": "072aea5c-ddd7-41e8-b950-0d4c98c60318",
   "metadata": {},
   "outputs": [],
   "source": [
    "s3=s2.copy()\n",
    "s3"
   ]
  },
  {
   "cell_type": "code",
   "execution_count": null,
   "id": "fac04681-b862-4d27-8526-1fbebd8283f5",
   "metadata": {},
   "outputs": [],
   "source": [
    "s3"
   ]
  },
  {
   "cell_type": "code",
   "execution_count": null,
   "id": "323c4cd5-bf92-4fcc-87b9-ae57b72143ee",
   "metadata": {},
   "outputs": [],
   "source": [
    "s3.add(5.6)\n",
    "s3"
   ]
  },
  {
   "cell_type": "code",
   "execution_count": null,
   "id": "3524144b-534a-4196-a341-e2887ee1bfd9",
   "metadata": {},
   "outputs": [],
   "source": [
    "s3.add(\"nit\")\n",
    "s3"
   ]
  },
  {
   "cell_type": "code",
   "execution_count": null,
   "id": "8f8cbd88-c2ad-41f6-a3ad-a31ba37bdb5e",
   "metadata": {},
   "outputs": [],
   "source": [
    "print(s)\n",
    "print(s1)\n",
    "print(s2)\n",
    "print(s3)\n"
   ]
  },
  {
   "cell_type": "code",
   "execution_count": null,
   "id": "66ba8c1e-4ec1-43a1-be26-bf731eee999b",
   "metadata": {},
   "outputs": [],
   "source": [
    "s1.add(11)\n",
    "s1"
   ]
  },
  {
   "cell_type": "code",
   "execution_count": null,
   "id": "d33fe191-0ad9-4359-a6c8-1aed1cbe696d",
   "metadata": {},
   "outputs": [],
   "source": [
    "type(s1)"
   ]
  },
  {
   "cell_type": "code",
   "execution_count": null,
   "id": "cbd2f41d-953b-4e5f-ae5b-cd4cced8f725",
   "metadata": {},
   "outputs": [],
   "source": [
    "s3.remove(923)"
   ]
  },
  {
   "cell_type": "code",
   "execution_count": null,
   "id": "353f8ca1-1d34-49db-bab8-efa6261e2e4d",
   "metadata": {},
   "outputs": [],
   "source": [
    "s3"
   ]
  },
  {
   "cell_type": "code",
   "execution_count": null,
   "id": "93f0f8b8-8946-4357-afa0-7ddeb6dd9e58",
   "metadata": {},
   "outputs": [],
   "source": [
    "s3.remove(0)"
   ]
  },
  {
   "cell_type": "code",
   "execution_count": null,
   "id": "4513d59c-833c-491e-8a7e-dd9f12da03a4",
   "metadata": {},
   "outputs": [],
   "source": [
    "s3.discard(44)"
   ]
  },
  {
   "cell_type": "code",
   "execution_count": null,
   "id": "586ea77b-d962-425b-9c5a-bbd94220c4e1",
   "metadata": {},
   "outputs": [],
   "source": [
    "s3"
   ]
  },
  {
   "cell_type": "code",
   "execution_count": null,
   "id": "08445cd0-de5e-4e6e-9ce6-4c8cd0bcbad5",
   "metadata": {},
   "outputs": [],
   "source": [
    "s3.discard(2000)"
   ]
  },
  {
   "cell_type": "code",
   "execution_count": null,
   "id": "cb4a609a-a513-478a-90b4-8db5497c8507",
   "metadata": {},
   "outputs": [],
   "source": [
    "s3"
   ]
  },
  {
   "cell_type": "code",
   "execution_count": null,
   "id": "8ed33b23-e97e-4099-bcea-bc393b351189",
   "metadata": {},
   "outputs": [],
   "source": [
    "s3.pop()"
   ]
  },
  {
   "cell_type": "code",
   "execution_count": null,
   "id": "b99cb539-98eb-4d20-8aaf-7c7aac54746d",
   "metadata": {},
   "outputs": [],
   "source": [
    "s3.pop()"
   ]
  },
  {
   "cell_type": "code",
   "execution_count": null,
   "id": "6f90680d-8c93-46db-822b-b0d4c617597c",
   "metadata": {},
   "outputs": [],
   "source": [
    "s3"
   ]
  },
  {
   "cell_type": "code",
   "execution_count": null,
   "id": "7b27f1fe-6744-4394-8d45-f8bbd972a9c1",
   "metadata": {},
   "outputs": [],
   "source": [
    "s3.pop(0)"
   ]
  },
  {
   "cell_type": "code",
   "execution_count": null,
   "id": "db4eaf76-e22c-4149-9d31-f572234b4065",
   "metadata": {},
   "outputs": [],
   "source": [
    "s3[:]"
   ]
  },
  {
   "cell_type": "code",
   "execution_count": null,
   "id": "360cc777-58d5-4464-a873-7eb6abf813fc",
   "metadata": {},
   "outputs": [],
   "source": [
    "s3[2]"
   ]
  },
  {
   "cell_type": "code",
   "execution_count": null,
   "id": "8b403d42-b468-4890-8b1b-2b518f56d115",
   "metadata": {},
   "outputs": [],
   "source": [
    "40 in s3"
   ]
  },
  {
   "cell_type": "code",
   "execution_count": 2,
   "id": "8ab6bc6f-3ce3-4de1-8cfd-0d3054ff8784",
   "metadata": {},
   "outputs": [
    {
     "ename": "NameError",
     "evalue": "name 's1' is not defined",
     "output_type": "error",
     "traceback": [
      "\u001b[1;31m---------------------------------------------------------------------------\u001b[0m",
      "\u001b[1;31mNameError\u001b[0m                                 Traceback (most recent call last)",
      "Cell \u001b[1;32mIn[2], line 1\u001b[0m\n\u001b[1;32m----> 1\u001b[0m s1 \u001b[38;5;241m|\u001b[39m s2\n",
      "\u001b[1;31mNameError\u001b[0m: name 's1' is not defined"
     ]
    }
   ],
   "source": [
    "s1 | s2"
   ]
  },
  {
   "cell_type": "markdown",
   "id": "9953944d-9b2c-44d3-8088-ac3bd5ab7bd3",
   "metadata": {},
   "source": [
    "# set operations"
   ]
  },
  {
   "cell_type": "code",
   "execution_count": null,
   "id": "0cb7a360-a261-449f-9fbb-120172beca30",
   "metadata": {},
   "outputs": [],
   "source": [
    "a={1,2,3,4,5}\n",
    "b={4,5,6,7,8}\n",
    "c={8,9,10,11}"
   ]
  },
  {
   "cell_type": "code",
   "execution_count": 9,
   "id": "cbce5481-4062-4531-88fa-34ff1f8e25a9",
   "metadata": {},
   "outputs": [
    {
     "ename": "NameError",
     "evalue": "name 's1' is not defined",
     "output_type": "error",
     "traceback": [
      "\u001b[1;31m---------------------------------------------------------------------------\u001b[0m",
      "\u001b[1;31mNameError\u001b[0m                                 Traceback (most recent call last)",
      "Cell \u001b[1;32mIn[9], line 1\u001b[0m\n\u001b[1;32m----> 1\u001b[0m s1\u001b[38;5;241m.\u001b[39munion(s2)\n",
      "\u001b[1;31mNameError\u001b[0m: name 's1' is not defined"
     ]
    }
   ],
   "source": [
    "s1.union(s2)"
   ]
  },
  {
   "cell_type": "code",
   "execution_count": 1,
   "id": "48335618-9150-46dd-b503-71398264d044",
   "metadata": {},
   "outputs": [
    {
     "ename": "NameError",
     "evalue": "name 's1' is not defined",
     "output_type": "error",
     "traceback": [
      "\u001b[1;31m---------------------------------------------------------------------------\u001b[0m",
      "\u001b[1;31mNameError\u001b[0m                                 Traceback (most recent call last)",
      "Cell \u001b[1;32mIn[1], line 1\u001b[0m\n\u001b[1;32m----> 1\u001b[0m s1\u001b[38;5;241m.\u001b[39mintersection(s2)\n",
      "\u001b[1;31mNameError\u001b[0m: name 's1' is not defined"
     ]
    }
   ],
   "source": [
    "s1.intersection(s2)"
   ]
  },
  {
   "cell_type": "code",
   "execution_count": 2,
   "id": "87e7af3e-8d6a-4dd8-a132-3398ad8eb0fe",
   "metadata": {},
   "outputs": [
    {
     "ename": "NameError",
     "evalue": "name 's1' is not defined",
     "output_type": "error",
     "traceback": [
      "\u001b[1;31m---------------------------------------------------------------------------\u001b[0m",
      "\u001b[1;31mNameError\u001b[0m                                 Traceback (most recent call last)",
      "Cell \u001b[1;32mIn[2], line 1\u001b[0m\n\u001b[1;32m----> 1\u001b[0m s1\n",
      "\u001b[1;31mNameError\u001b[0m: name 's1' is not defined"
     ]
    }
   ],
   "source": [
    "s1"
   ]
  },
  {
   "cell_type": "code",
   "execution_count": null,
   "id": "86aad85b-4ae0-45d3-8a96-584f56387d1b",
   "metadata": {},
   "outputs": [],
   "source": []
  }
 ],
 "metadata": {
  "kernelspec": {
   "display_name": "Python [conda env:base] *",
   "language": "python",
   "name": "conda-base-py"
  },
  "language_info": {
   "codemirror_mode": {
    "name": "ipython",
    "version": 3
   },
   "file_extension": ".py",
   "mimetype": "text/x-python",
   "name": "python",
   "nbconvert_exporter": "python",
   "pygments_lexer": "ipython3",
   "version": "3.13.5"
  }
 },
 "nbformat": 4,
 "nbformat_minor": 5
}
