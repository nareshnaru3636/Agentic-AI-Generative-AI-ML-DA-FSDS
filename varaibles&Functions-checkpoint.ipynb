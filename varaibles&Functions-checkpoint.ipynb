{
 "cells": [
  {
   "cell_type": "markdown",
   "id": "f0f7216c-7782-472a-ba9b-95e8119d8d43",
   "metadata": {},
   "source": [
    "# python data types"
   ]
  },
  {
   "cell_type": "code",
   "execution_count": 1,
   "id": "bec1d25d-7c8a-4d99-ab26-e4c49793f6a9",
   "metadata": {},
   "outputs": [
    {
     "data": {
      "text/plain": [
       "5"
      ]
     },
     "execution_count": 1,
     "metadata": {},
     "output_type": "execute_result"
    }
   ],
   "source": [
    "i=5\n",
    "i"
   ]
  },
  {
   "cell_type": "code",
   "execution_count": 2,
   "id": "76cc2277-2e46-4f1d-ae4e-639cbfb7b281",
   "metadata": {},
   "outputs": [
    {
     "data": {
      "text/plain": [
       "int"
      ]
     },
     "execution_count": 2,
     "metadata": {},
     "output_type": "execute_result"
    }
   ],
   "source": [
    "type(i)"
   ]
  },
  {
   "cell_type": "code",
   "execution_count": 3,
   "id": "7089c08f-8cb9-4727-b54f-7ed417c1a320",
   "metadata": {},
   "outputs": [],
   "source": [
    "f=100.4"
   ]
  },
  {
   "cell_type": "code",
   "execution_count": 4,
   "id": "3e9493e4-eba7-4a1b-a3ef-8d447b4999ca",
   "metadata": {},
   "outputs": [
    {
     "data": {
      "text/plain": [
       "float"
      ]
     },
     "execution_count": 4,
     "metadata": {},
     "output_type": "execute_result"
    }
   ],
   "source": [
    "type(f)"
   ]
  },
  {
   "cell_type": "code",
   "execution_count": 5,
   "id": "ca3b0560-65d6-4da9-b110-c5774ed1d8cb",
   "metadata": {},
   "outputs": [
    {
     "name": "stdout",
     "output_type": "stream",
     "text": [
      "5 100.4\n"
     ]
    }
   ],
   "source": [
    "print(i,f)"
   ]
  },
  {
   "cell_type": "code",
   "execution_count": 6,
   "id": "25aaca10-4e09-4204-b174-0e5a0294195d",
   "metadata": {},
   "outputs": [
    {
     "data": {
      "text/plain": [
       "105.4"
      ]
     },
     "execution_count": 6,
     "metadata": {},
     "output_type": "execute_result"
    }
   ],
   "source": [
    " i+f"
   ]
  },
  {
   "cell_type": "code",
   "execution_count": 7,
   "id": "7cb26169-943c-42fd-9a98-f29f4fca0b15",
   "metadata": {},
   "outputs": [
    {
     "data": {
      "text/plain": [
       "502.0"
      ]
     },
     "execution_count": 7,
     "metadata": {},
     "output_type": "execute_result"
    }
   ],
   "source": [
    "i*f"
   ]
  },
  {
   "cell_type": "code",
   "execution_count": 8,
   "id": "39ab4434-b254-45df-b292-ba6aeb19fa5b",
   "metadata": {},
   "outputs": [
    {
     "data": {
      "text/plain": [
       "-95.4"
      ]
     },
     "execution_count": 8,
     "metadata": {},
     "output_type": "execute_result"
    }
   ],
   "source": [
    "i-f"
   ]
  },
  {
   "cell_type": "code",
   "execution_count": 9,
   "id": "08803299-faab-488c-9455-6a5e6bd6fd4c",
   "metadata": {},
   "outputs": [
    {
     "data": {
      "text/plain": [
       "0.049800796812749"
      ]
     },
     "execution_count": 9,
     "metadata": {},
     "output_type": "execute_result"
    }
   ],
   "source": [
    "i/f"
   ]
  },
  {
   "cell_type": "code",
   "execution_count": 10,
   "id": "d6bc7c1d-4983-413e-9975-5c11aaafe575",
   "metadata": {},
   "outputs": [
    {
     "data": {
      "text/plain": [
       "20.080000000000002"
      ]
     },
     "execution_count": 10,
     "metadata": {},
     "output_type": "execute_result"
    }
   ],
   "source": [
    "f/i"
   ]
  },
  {
   "cell_type": "code",
   "execution_count": 11,
   "id": "44dfc10b-7caf-48fd-ac9b-1ee4793a6fdb",
   "metadata": {},
   "outputs": [
    {
     "data": {
      "text/plain": [
       "True"
      ]
     },
     "execution_count": 11,
     "metadata": {},
     "output_type": "execute_result"
    }
   ],
   "source": [
    "True\n"
   ]
  },
  {
   "cell_type": "code",
   "execution_count": 12,
   "id": "bd939612-bfc4-4028-b1c4-2d1ad402bb7f",
   "metadata": {},
   "outputs": [
    {
     "data": {
      "text/plain": [
       "1"
      ]
     },
     "execution_count": 12,
     "metadata": {},
     "output_type": "execute_result"
    }
   ],
   "source": [
    "True + False"
   ]
  },
  {
   "cell_type": "code",
   "execution_count": 13,
   "id": "3c99e9ec-2ef8-4fef-9eda-1b60f8115501",
   "metadata": {},
   "outputs": [
    {
     "data": {
      "text/plain": [
       "1"
      ]
     },
     "execution_count": 13,
     "metadata": {},
     "output_type": "execute_result"
    }
   ],
   "source": [
    "True - False"
   ]
  },
  {
   "cell_type": "code",
   "execution_count": 14,
   "id": "aa10d73a-9255-4161-b359-6e103b98cc8d",
   "metadata": {},
   "outputs": [
    {
     "data": {
      "text/plain": [
       "0"
      ]
     },
     "execution_count": 14,
     "metadata": {},
     "output_type": "execute_result"
    }
   ],
   "source": [
    "False +False"
   ]
  },
  {
   "cell_type": "code",
   "execution_count": 15,
   "id": "ccc997e2-013f-41db-aad6-73ae2988cccc",
   "metadata": {},
   "outputs": [
    {
     "ename": "ZeroDivisionError",
     "evalue": "division by zero",
     "output_type": "error",
     "traceback": [
      "\u001b[1;31m---------------------------------------------------------------------------\u001b[0m",
      "\u001b[1;31mZeroDivisionError\u001b[0m                         Traceback (most recent call last)",
      "Cell \u001b[1;32mIn[15], line 1\u001b[0m\n\u001b[1;32m----> 1\u001b[0m \u001b[38;5;28;01mTrue\u001b[39;00m\u001b[38;5;241m/\u001b[39m\u001b[38;5;28;01mFalse\u001b[39;00m\n",
      "\u001b[1;31mZeroDivisionError\u001b[0m: division by zero"
     ]
    }
   ],
   "source": [
    "True/False"
   ]
  },
  {
   "cell_type": "code",
   "execution_count": 17,
   "id": "37173dcc-6a1e-4042-ac23-f91a9aba19ec",
   "metadata": {},
   "outputs": [
    {
     "data": {
      "text/plain": [
       "0.0"
      ]
     },
     "execution_count": 17,
     "metadata": {},
     "output_type": "execute_result"
    }
   ],
   "source": [
    "False / True"
   ]
  },
  {
   "cell_type": "code",
   "execution_count": 18,
   "id": "8de5f3e9-7b08-4ea5-b274-9c94e3a7f7a0",
   "metadata": {},
   "outputs": [
    {
     "data": {
      "text/plain": [
       "1"
      ]
     },
     "execution_count": 18,
     "metadata": {},
     "output_type": "execute_result"
    }
   ],
   "source": [
    "True // True"
   ]
  },
  {
   "cell_type": "code",
   "execution_count": 21,
   "id": "99d2a528-0e65-45da-902e-47e323001c1e",
   "metadata": {},
   "outputs": [
    {
     "data": {
      "text/plain": [
       "'nareshit'"
      ]
     },
     "execution_count": 21,
     "metadata": {},
     "output_type": "execute_result"
    }
   ],
   "source": [
    "s = \"nareshit\"\n",
    "s"
   ]
  },
  {
   "cell_type": "code",
   "execution_count": 22,
   "id": "7fcb9bfe-6685-47dd-9939-adaecd925dde",
   "metadata": {},
   "outputs": [
    {
     "data": {
      "text/plain": [
       "'tech'"
      ]
     },
     "execution_count": 22,
     "metadata": {},
     "output_type": "execute_result"
    }
   ],
   "source": [
    "s1='tech'\n",
    "s1"
   ]
  },
  {
   "cell_type": "code",
   "execution_count": 24,
   "id": "12ef6a75-61fd-40d1-88b9-4fb040387610",
   "metadata": {},
   "outputs": [
    {
     "data": {
      "text/plain": [
       "'datasceince'"
      ]
     },
     "execution_count": 24,
     "metadata": {},
     "output_type": "execute_result"
    }
   ],
   "source": [
    "s2='''datasceince'''\n",
    "s2"
   ]
  },
  {
   "cell_type": "code",
   "execution_count": 26,
   "id": "14564aa6-02a1-427b-aac4-2830e13bcab6",
   "metadata": {},
   "outputs": [
    {
     "data": {
      "text/plain": [
       "(20+30j)"
      ]
     },
     "execution_count": 26,
     "metadata": {},
     "output_type": "execute_result"
    }
   ],
   "source": [
    "c =20 +30j\n",
    "c"
   ]
  },
  {
   "cell_type": "code",
   "execution_count": 27,
   "id": "3f59b750-e828-4314-a012-cc5719884a81",
   "metadata": {},
   "outputs": [
    {
     "data": {
      "text/plain": [
       "20.0"
      ]
     },
     "execution_count": 27,
     "metadata": {},
     "output_type": "execute_result"
    }
   ],
   "source": [
    "c.real"
   ]
  },
  {
   "cell_type": "code",
   "execution_count": 28,
   "id": "2a1906ae-7b75-4b0a-a8f9-c36666aac515",
   "metadata": {},
   "outputs": [
    {
     "data": {
      "text/plain": [
       "30.0"
      ]
     },
     "execution_count": 28,
     "metadata": {},
     "output_type": "execute_result"
    }
   ],
   "source": [
    "c.imag"
   ]
  },
  {
   "cell_type": "code",
   "execution_count": 29,
   "id": "9b5e2cb8-d118-4b09-8c48-8fa08ac77b69",
   "metadata": {},
   "outputs": [],
   "source": [
    "c =20 +30j\n",
    "d =20 +30j"
   ]
  },
  {
   "cell_type": "code",
   "execution_count": 30,
   "id": "a20b56ed-ace4-477e-a511-901049f57c05",
   "metadata": {},
   "outputs": [
    {
     "name": "stdout",
     "output_type": "stream",
     "text": [
      "(40+60j)\n"
     ]
    }
   ],
   "source": [
    "print(c+d)"
   ]
  },
  {
   "cell_type": "code",
   "execution_count": 31,
   "id": "6ad94ad1-f2ec-437c-bb01-7fc0201d3215",
   "metadata": {},
   "outputs": [
    {
     "name": "stdout",
     "output_type": "stream",
     "text": [
      "0j\n"
     ]
    }
   ],
   "source": [
    "print(c-d)"
   ]
  },
  {
   "cell_type": "code",
   "execution_count": null,
   "id": "3ff89540-c439-4fe5-bcff-d3ce1973dd13",
   "metadata": {},
   "outputs": [],
   "source": []
  }
 ],
 "metadata": {
  "kernelspec": {
   "display_name": "Python [conda env:base] *",
   "language": "python",
   "name": "conda-base-py"
  },
  "language_info": {
   "codemirror_mode": {
    "name": "ipython",
    "version": 3
   },
   "file_extension": ".py",
   "mimetype": "text/x-python",
   "name": "python",
   "nbconvert_exporter": "python",
   "pygments_lexer": "ipython3",
   "version": "3.13.5"
  }
 },
 "nbformat": 4,
 "nbformat_minor": 5
}
