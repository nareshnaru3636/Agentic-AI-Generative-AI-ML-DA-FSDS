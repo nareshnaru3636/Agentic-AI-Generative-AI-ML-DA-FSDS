{
 "cells": [
  {
   "cell_type": "code",
   "execution_count": 1,
   "id": "d669652a-d44b-47a6-85dd-09dcaca73f91",
   "metadata": {},
   "outputs": [
    {
     "data": {
      "text/plain": [
       "{1, 2, 11, 13, 24, 56, 252, 425}"
      ]
     },
     "execution_count": 1,
     "metadata": {},
     "output_type": "execute_result"
    }
   ],
   "source": [
    "s1={11,2,13,24,425,24,56,252,1,2}\n",
    "s1"
   ]
  },
  {
   "cell_type": "code",
   "execution_count": 2,
   "id": "a3942b66-0b8f-4770-8c90-cc8bec63c87e",
   "metadata": {},
   "outputs": [
    {
     "data": {
      "text/plain": [
       "{1, 2, 12, 22, 44, 55, 62, 74}"
      ]
     },
     "execution_count": 2,
     "metadata": {},
     "output_type": "execute_result"
    }
   ],
   "source": [
    "s2={1,2,22,12,44,55,62,74}\n",
    "s2"
   ]
  },
  {
   "cell_type": "code",
   "execution_count": 3,
   "id": "3752baeb-7b1c-45e6-a142-06575228630d",
   "metadata": {},
   "outputs": [
    {
     "data": {
      "text/plain": [
       "{1, 2, 11, 12, 13, 22, 24, 44, 55, 56, 62, 74, 252, 425}"
      ]
     },
     "execution_count": 3,
     "metadata": {},
     "output_type": "execute_result"
    }
   ],
   "source": [
    "s1 |s2"
   ]
  },
  {
   "cell_type": "code",
   "execution_count": 4,
   "id": "8a558c14-ebcb-4f2b-adf5-474515af0b87",
   "metadata": {},
   "outputs": [
    {
     "data": {
      "text/plain": [
       "{1, 2}"
      ]
     },
     "execution_count": 4,
     "metadata": {},
     "output_type": "execute_result"
    }
   ],
   "source": [
    "s1 & s2"
   ]
  },
  {
   "cell_type": "code",
   "execution_count": 5,
   "id": "d4660fbc-e7d1-47ba-bf9f-afe511bd8f98",
   "metadata": {},
   "outputs": [
    {
     "data": {
      "text/plain": [
       "{8, 9, 10}"
      ]
     },
     "execution_count": 5,
     "metadata": {},
     "output_type": "execute_result"
    }
   ],
   "source": [
    "a={1,2,3,4,5}\n",
    "b={4,5,6,7,8}\n",
    "c={8,9,10}\n",
    "a\n",
    "b\n",
    "c"
   ]
  },
  {
   "cell_type": "code",
   "execution_count": 6,
   "id": "ee427bcd-1c19-4932-89f2-609d0b2b1e16",
   "metadata": {},
   "outputs": [
    {
     "data": {
      "text/plain": [
       "{1, 2, 3, 4, 5, 8, 9, 10}"
      ]
     },
     "execution_count": 6,
     "metadata": {},
     "output_type": "execute_result"
    }
   ],
   "source": [
    "a |c "
   ]
  },
  {
   "cell_type": "code",
   "execution_count": 7,
   "id": "38be47a6-7921-4a86-b847-dfd193fa34cb",
   "metadata": {},
   "outputs": [
    {
     "data": {
      "text/plain": [
       "{1, 2, 3, 4, 5, 6, 7, 8, 9, 10}"
      ]
     },
     "execution_count": 7,
     "metadata": {},
     "output_type": "execute_result"
    }
   ],
   "source": [
    "a|b|c"
   ]
  },
  {
   "cell_type": "code",
   "execution_count": 8,
   "id": "3d49d81e-b5be-4c57-93cc-85b763325d50",
   "metadata": {},
   "outputs": [
    {
     "data": {
      "text/plain": [
       "{4, 5}"
      ]
     },
     "execution_count": 8,
     "metadata": {},
     "output_type": "execute_result"
    }
   ],
   "source": [
    "a & b"
   ]
  },
  {
   "cell_type": "code",
   "execution_count": 9,
   "id": "81650672-ad0b-4c5f-9aa1-159de30b71a7",
   "metadata": {},
   "outputs": [
    {
     "data": {
      "text/plain": [
       "{8}"
      ]
     },
     "execution_count": 9,
     "metadata": {},
     "output_type": "execute_result"
    }
   ],
   "source": [
    "c&b"
   ]
  },
  {
   "cell_type": "code",
   "execution_count": 10,
   "id": "a051a1eb-f1c8-4a16-ae94-ef7fc3e76bd8",
   "metadata": {},
   "outputs": [
    {
     "data": {
      "text/plain": [
       "{8}"
      ]
     },
     "execution_count": 10,
     "metadata": {},
     "output_type": "execute_result"
    }
   ],
   "source": [
    "b&c"
   ]
  },
  {
   "cell_type": "code",
   "execution_count": 11,
   "id": "8a55722e-19a8-4c3d-91e5-8cba286ebd88",
   "metadata": {},
   "outputs": [
    {
     "data": {
      "text/plain": [
       "{1, 2, 3, 6, 7, 8}"
      ]
     },
     "execution_count": 11,
     "metadata": {},
     "output_type": "execute_result"
    }
   ],
   "source": [
    "a.symmetric_difference(b)"
   ]
  },
  {
   "cell_type": "code",
   "execution_count": 12,
   "id": "c4bf6ce3-29c3-4b91-85bc-641431e81312",
   "metadata": {},
   "outputs": [
    {
     "data": {
      "text/plain": [
       "{4, 5, 6, 7, 9, 10}"
      ]
     },
     "execution_count": 12,
     "metadata": {},
     "output_type": "execute_result"
    }
   ],
   "source": [
    "b^c"
   ]
  },
  {
   "cell_type": "code",
   "execution_count": 13,
   "id": "c83a14f8-7c97-4cf3-9070-4627af882e96",
   "metadata": {},
   "outputs": [],
   "source": [
    "a.symmetric_difference_update(b)"
   ]
  },
  {
   "cell_type": "code",
   "execution_count": 14,
   "id": "39685892-4b21-415e-a427-3c9b81f84aa7",
   "metadata": {},
   "outputs": [
    {
     "data": {
      "text/plain": [
       "{1, 2, 3, 6, 7, 8}"
      ]
     },
     "execution_count": 14,
     "metadata": {},
     "output_type": "execute_result"
    }
   ],
   "source": [
    "a"
   ]
  },
  {
   "cell_type": "code",
   "execution_count": 15,
   "id": "a3e69148-6afc-4a95-b27b-951228bc2dde",
   "metadata": {},
   "outputs": [
    {
     "name": "stdout",
     "output_type": "stream",
     "text": [
      "{1, 2, 3, 6, 7, 8}\n",
      "{4, 5, 6, 7, 8}\n",
      "{8, 9, 10}\n"
     ]
    }
   ],
   "source": [
    "print(a)\n",
    "print(b)\n",
    "print(c)"
   ]
  },
  {
   "cell_type": "markdown",
   "id": "5aa39e62-da24-4fca-af0b-3c315b85aee9",
   "metadata": {},
   "source": [
    "#super set,sub set,dis joint"
   ]
  },
  {
   "cell_type": "code",
   "execution_count": 16,
   "id": "8df0bbfd-5c68-4b2b-a6ab-dd595384334e",
   "metadata": {},
   "outputs": [
    {
     "name": "stdout",
     "output_type": "stream",
     "text": [
      "{1, 2, 3, 4, 5, 6, 7, 8, 9}\n",
      "{3, 4, 5, 6, 7, 8}\n",
      "{40, 10, 20, 30}\n"
     ]
    }
   ],
   "source": [
    "s4={1,2,3,4,5,6,7,8,9}\n",
    "s5={3,4,5,6,7,8}\n",
    "s6={10,20,30,40}\n",
    "print(s4)\n",
    "print(s5)\n",
    "print(s6)"
   ]
  },
  {
   "cell_type": "code",
   "execution_count": 17,
   "id": "9b090639-465e-44b9-aef9-3ca99962dc24",
   "metadata": {},
   "outputs": [
    {
     "data": {
      "text/plain": [
       "True"
      ]
     },
     "execution_count": 17,
     "metadata": {},
     "output_type": "execute_result"
    }
   ],
   "source": [
    "s4.issuperset(s5)"
   ]
  },
  {
   "cell_type": "code",
   "execution_count": 18,
   "id": "9ba07f3d-5194-4173-97d9-9c72bd387ddd",
   "metadata": {},
   "outputs": [
    {
     "data": {
      "text/plain": [
       "True"
      ]
     },
     "execution_count": 18,
     "metadata": {},
     "output_type": "execute_result"
    }
   ],
   "source": [
    "s5.issubset(s4)"
   ]
  },
  {
   "cell_type": "code",
   "execution_count": 19,
   "id": "15766042-38c3-46fb-b4c8-a388aa3c5f7d",
   "metadata": {},
   "outputs": [
    {
     "data": {
      "text/plain": [
       "True"
      ]
     },
     "execution_count": 19,
     "metadata": {},
     "output_type": "execute_result"
    }
   ],
   "source": [
    "s6.isdisjoint(s5)"
   ]
  },
  {
   "cell_type": "code",
   "execution_count": 20,
   "id": "242b1b3b-94e6-4d44-92c2-6611a970fc17",
   "metadata": {},
   "outputs": [
    {
     "data": {
      "text/plain": [
       "False"
      ]
     },
     "execution_count": 20,
     "metadata": {},
     "output_type": "execute_result"
    }
   ],
   "source": [
    "s6.issuperset(s5)"
   ]
  },
  {
   "cell_type": "code",
   "execution_count": 21,
   "id": "3136c419-e986-4828-b7ec-16916218af3d",
   "metadata": {},
   "outputs": [
    {
     "data": {
      "text/plain": [
       "False"
      ]
     },
     "execution_count": 21,
     "metadata": {},
     "output_type": "execute_result"
    }
   ],
   "source": [
    "s6.issubset(s5)"
   ]
  },
  {
   "cell_type": "code",
   "execution_count": 22,
   "id": "f9542517-58f0-46e3-86fc-8fc125a5be5d",
   "metadata": {},
   "outputs": [
    {
     "name": "stdout",
     "output_type": "stream",
     "text": [
      "{1, 2, 3, 4, 5, 6, 7, 8, 9}\n",
      "{25, 35, 9, 15}\n",
      "{40, 10, 20, 30}\n"
     ]
    }
   ],
   "source": [
    "s7={1,2,3,4,5,6,7,8,9}\n",
    "s8={15,25,35,9}\n",
    "s9={10,20,30,40}\n",
    "print(s7)\n",
    "print(s8)\n",
    "print(s9)"
   ]
  },
  {
   "cell_type": "code",
   "execution_count": 23,
   "id": "46528ebb-8765-45dd-bb78-42da2d3014af",
   "metadata": {},
   "outputs": [
    {
     "data": {
      "text/plain": [
       "False"
      ]
     },
     "execution_count": 23,
     "metadata": {},
     "output_type": "execute_result"
    }
   ],
   "source": [
    "s7.issuperset(s8)"
   ]
  },
  {
   "cell_type": "code",
   "execution_count": 24,
   "id": "e7b07e27-6c30-4c4b-84ff-65579568d115",
   "metadata": {},
   "outputs": [
    {
     "data": {
      "text/plain": [
       "False"
      ]
     },
     "execution_count": 24,
     "metadata": {},
     "output_type": "execute_result"
    }
   ],
   "source": [
    "s8.issubset(s7)"
   ]
  },
  {
   "cell_type": "code",
   "execution_count": 25,
   "id": "07a2606f-706e-4ecb-8a2b-cf0f91cdb59b",
   "metadata": {},
   "outputs": [
    {
     "data": {
      "text/plain": [
       "False"
      ]
     },
     "execution_count": 25,
     "metadata": {},
     "output_type": "execute_result"
    }
   ],
   "source": [
    "s7.isdisjoint(s8)"
   ]
  },
  {
   "cell_type": "markdown",
   "id": "3cc0eb12-7d26-4d3b-b49c-14c6492e91d1",
   "metadata": {},
   "source": [
    "#Dictionary"
   ]
  },
  {
   "cell_type": "code",
   "execution_count": 26,
   "id": "d08bfdca-5d1d-4de6-8d14-5b7dcdc6fcb7",
   "metadata": {},
   "outputs": [],
   "source": [
    "d={}"
   ]
  },
  {
   "cell_type": "code",
   "execution_count": 27,
   "id": "0364ebc1-2d18-4c7b-bdd9-00d5ac72c7f9",
   "metadata": {},
   "outputs": [
    {
     "data": {
      "text/plain": [
       "dict"
      ]
     },
     "execution_count": 27,
     "metadata": {},
     "output_type": "execute_result"
    }
   ],
   "source": [
    "type(d)"
   ]
  },
  {
   "cell_type": "code",
   "execution_count": 28,
   "id": "affcc453-b620-498d-8912-61fce19f5b2d",
   "metadata": {},
   "outputs": [
    {
     "data": {
      "text/plain": [
       "{1: 'one', 2: 'two', 3: 'three', 4: 'four'}"
      ]
     },
     "execution_count": 28,
     "metadata": {},
     "output_type": "execute_result"
    }
   ],
   "source": [
    "d1 = {1 : 'one',2 : 'two',3: 'three',4:'four'}\n",
    "d1"
   ]
  },
  {
   "cell_type": "code",
   "execution_count": 29,
   "id": "26b64a04-3363-4406-b966-342bd3f7f501",
   "metadata": {},
   "outputs": [
    {
     "ename": "SyntaxError",
     "evalue": "':' expected after dictionary key (2647572009.py, line 1)",
     "output_type": "error",
     "traceback": [
      "\u001b[1;36m  Cell \u001b[1;32mIn[29], line 1\u001b[1;36m\u001b[0m\n\u001b[1;33m    ipl_hyderabad :{captain : 'cummins',vice captain :'abhishek'}\u001b[0m\n\u001b[1;37m                                           ^\u001b[0m\n\u001b[1;31mSyntaxError\u001b[0m\u001b[1;31m:\u001b[0m ':' expected after dictionary key\n"
     ]
    }
   ],
   "source": [
    "ipl_hyderabad :{captain : 'cummins',vice captain :'abhishek'}\n",
    "ipl_hyderbad"
   ]
  },
  {
   "cell_type": "code",
   "execution_count": null,
   "id": "dcd77d77-9411-4fc0-80e3-b6206a489120",
   "metadata": {},
   "outputs": [],
   "source": [
    "d2=d1.copy()\n",
    "d2"
   ]
  },
  {
   "cell_type": "code",
   "execution_count": null,
   "id": "c99318a0-00e2-4af6-b277-8708b2bfb87b",
   "metadata": {},
   "outputs": [],
   "source": [
    "d2"
   ]
  },
  {
   "cell_type": "code",
   "execution_count": null,
   "id": "98cb2420-854c-444c-9a21-0b40f139f6f4",
   "metadata": {},
   "outputs": [],
   "source": [
    "d1[:]"
   ]
  },
  {
   "cell_type": "code",
   "execution_count": null,
   "id": "6ebfa473-52bd-4728-82be-ce0c13171eaf",
   "metadata": {},
   "outputs": [],
   "source": [
    "d1['one']"
   ]
  },
  {
   "cell_type": "code",
   "execution_count": null,
   "id": "2d9547ca-e16e-4658-99e1-4367deb760c4",
   "metadata": {},
   "outputs": [],
   "source": [
    "d1[1]"
   ]
  },
  {
   "cell_type": "code",
   "execution_count": null,
   "id": "392604a4-3703-49fb-bf8a-63df05d36f01",
   "metadata": {},
   "outputs": [],
   "source": [
    "d1.keys()"
   ]
  },
  {
   "cell_type": "code",
   "execution_count": null,
   "id": "3dfd69d5-b6d3-4919-84a2-948985026bd6",
   "metadata": {},
   "outputs": [],
   "source": [
    "d1.values()"
   ]
  },
  {
   "cell_type": "code",
   "execution_count": null,
   "id": "aaeb4faa-4323-4e4d-9662-51b811a852b0",
   "metadata": {},
   "outputs": [],
   "source": [
    "d1"
   ]
  },
  {
   "cell_type": "code",
   "execution_count": null,
   "id": "151a6bed-681d-43d5-b2e4-5a8fc8e23eb6",
   "metadata": {},
   "outputs": [],
   "source": [
    "d1['list':[1,2,3]]"
   ]
  },
  {
   "cell_type": "code",
   "execution_count": null,
   "id": "bbef24e7-6fc4-4b04-8037-800d258ca23f",
   "metadata": {},
   "outputs": [],
   "source": [
    "d1"
   ]
  },
  {
   "cell_type": "code",
   "execution_count": null,
   "id": "cbd8ba00-947e-40cf-a15c-414c193e2a97",
   "metadata": {},
   "outputs": [],
   "source": [
    "d1={1: 'one', 2: 'two', 3: 'three', 4: 'four','List' :[11,22,33]}"
   ]
  },
  {
   "cell_type": "code",
   "execution_count": null,
   "id": "607f8a5e-a152-44ca-8d54-e0fd5c99e263",
   "metadata": {},
   "outputs": [],
   "source": [
    "d1"
   ]
  },
  {
   "cell_type": "code",
   "execution_count": null,
   "id": "200ee1b9-2f04-4182-8479-111f362fcc86",
   "metadata": {},
   "outputs": [],
   "source": [
    "d1.values()"
   ]
  },
  {
   "cell_type": "code",
   "execution_count": null,
   "id": "d990a988-24dd-4763-82e3-aff572dd0c39",
   "metadata": {},
   "outputs": [],
   "source": [
    "d1.pop('List')"
   ]
  },
  {
   "cell_type": "code",
   "execution_count": null,
   "id": "59b0a0a2-e62a-43e5-82f5-e29bd6ecff5a",
   "metadata": {},
   "outputs": [],
   "source": [
    "d1"
   ]
  },
  {
   "cell_type": "code",
   "execution_count": null,
   "id": "bee79817-83bc-4a30-b624-460de23de9ee",
   "metadata": {},
   "outputs": [],
   "source": [
    "#Range"
   ]
  },
  {
   "cell_type": "code",
   "execution_count": null,
   "id": "642207a4-ebf6-4242-8d6e-6eb77eed9db4",
   "metadata": {},
   "outputs": [],
   "source": [
    "range(10)"
   ]
  },
  {
   "cell_type": "code",
   "execution_count": null,
   "id": "0536e972-e228-4c4f-9f8c-ad5a4422b304",
   "metadata": {},
   "outputs": [],
   "source": [
    "range(10,20)"
   ]
  },
  {
   "cell_type": "code",
   "execution_count": null,
   "id": "920fa063-d81e-45e9-8c69-000304b5c205",
   "metadata": {},
   "outputs": [],
   "source": [
    "list(range(10))"
   ]
  },
  {
   "cell_type": "code",
   "execution_count": 30,
   "id": "dca67de9-2e2b-4918-a6a5-eef2ccaa48e1",
   "metadata": {},
   "outputs": [
    {
     "data": {
      "text/plain": [
       "[10, 15]"
      ]
     },
     "execution_count": 30,
     "metadata": {},
     "output_type": "execute_result"
    }
   ],
   "source": [
    "list(range(10,20,5))"
   ]
  },
  {
   "cell_type": "code",
   "execution_count": 31,
   "id": "88b495c5-314b-4fe7-a529-f8484e21896c",
   "metadata": {},
   "outputs": [
    {
     "data": {
      "text/plain": [
       "range(10, 20, 5)"
      ]
     },
     "execution_count": 31,
     "metadata": {},
     "output_type": "execute_result"
    }
   ],
   "source": [
    "r=range(10,20,5)\n",
    "r"
   ]
  },
  {
   "cell_type": "code",
   "execution_count": 32,
   "id": "083aceaf-3304-47e6-90e5-3ca82db5f28d",
   "metadata": {},
   "outputs": [
    {
     "ename": "SyntaxError",
     "evalue": "cannot assign to literal (3883724060.py, line 1)",
     "output_type": "error",
     "traceback": [
      "\u001b[1;36m  Cell \u001b[1;32mIn[32], line 1\u001b[1;36m\u001b[0m\n\u001b[1;33m    for 10 in 'r' :\u001b[0m\n\u001b[1;37m        ^\u001b[0m\n\u001b[1;31mSyntaxError\u001b[0m\u001b[1;31m:\u001b[0m cannot assign to literal\n"
     ]
    }
   ],
   "source": [
    "for 10 in 'r' :\n",
    "    print()"
   ]
  },
  {
   "cell_type": "code",
   "execution_count": null,
   "id": "32415cdb-ee14-432d-b7e1-3ca0fc53f835",
   "metadata": {},
   "outputs": [],
   "source": []
  }
 ],
 "metadata": {
  "kernelspec": {
   "display_name": "Python [conda env:base] *",
   "language": "python",
   "name": "conda-base-py"
  },
  "language_info": {
   "codemirror_mode": {
    "name": "ipython",
    "version": 3
   },
   "file_extension": ".py",
   "mimetype": "text/x-python",
   "name": "python",
   "nbconvert_exporter": "python",
   "pygments_lexer": "ipython3",
   "version": "3.13.5"
  }
 },
 "nbformat": 4,
 "nbformat_minor": 5
}
